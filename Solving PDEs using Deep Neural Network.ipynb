{
 "cells": [
  {
   "cell_type": "code",
   "execution_count": 1,
   "metadata": {},
   "outputs": [],
   "source": [
    "#pip install torchvision"
   ]
  },
  {
   "cell_type": "code",
   "execution_count": 5,
   "metadata": {},
   "outputs": [],
   "source": [
    "import torch \n",
    "import torch.autograd as tgrad\n",
    "from pprint import pprint"
   ]
  },
  {
   "cell_type": "code",
   "execution_count": 8,
   "metadata": {},
   "outputs": [
    {
     "ename": "RuntimeError",
     "evalue": "a Tensor with 0 elements cannot be converted to Scalar",
     "output_type": "error",
     "traceback": [
      "\u001b[1;31m---------------------------------------------------------------------------\u001b[0m",
      "\u001b[1;31mRuntimeError\u001b[0m                              Traceback (most recent call last)",
      "Cell \u001b[1;32mIn[8], line 20\u001b[0m\n\u001b[0;32m     17\u001b[0m Nd2 \u001b[38;5;241m=\u001b[39m N0(d2)\n\u001b[0;32m     19\u001b[0m C \u001b[38;5;241m=\u001b[39m S\u001b[38;5;241m*\u001b[39mNd1 \u001b[38;5;241m-\u001b[39mK\u001b[38;5;241m*\u001b[39mNd2\u001b[38;5;241m*\u001b[39mtorch\u001b[38;5;241m.\u001b[39mexp(\u001b[38;5;241m-\u001b[39mr\u001b[38;5;241m*\u001b[39mt2m)\n\u001b[1;32m---> 20\u001b[0m pprint(\u001b[43mC\u001b[49m\u001b[38;5;241;43m.\u001b[39;49m\u001b[43mitem\u001b[49m\u001b[43m(\u001b[49m\u001b[43m)\u001b[49m)\n",
      "\u001b[1;31mRuntimeError\u001b[0m: a Tensor with 0 elements cannot be converted to Scalar"
     ]
    }
   ],
   "source": [
    "# declaring the option price parameters\n",
    "\n",
    "S = torch.Tensor([80]).requires_grad_()  # stock price\n",
    "t = torch.Tensor([0]).requires_grad_()   # time period\n",
    "sigma = torch.Tensor([]).requires_grad_()   # volatility\n",
    "r = torch.Tensor([0.05]).requires_grad_()   # interest rate\n",
    "K  = torch.Tensor([70]) # strike price\n",
    "T = torch.Tensor([1]) # real time\n",
    "\n",
    "t2m = T-t # time to maturity\n",
    "\n",
    "d1 = (torch.log(S/K) + (r + 0.5*sigma**2) + t2m)/(sigma*torch.sqrt(t2m))\n",
    "d2 = d1 - sigma*torch.sqrt(t2m)\n",
    "\n",
    "N0 =  lambda value: 0.5*(1+torch.erf((value/2**0.5))) # normal distribution function\n",
    "Nd1 = N0(d1)\n",
    "Nd2 = N0(d2)\n",
    "\n",
    "C = S*Nd1 -K*Nd2*torch.exp(-r*t2m)\n",
    "pprint(C.item())\n"
   ]
  },
  {
   "cell_type": "code",
   "execution_count": null,
   "metadata": {},
   "outputs": [],
   "source": []
  }
 ],
 "metadata": {
  "kernelspec": {
   "display_name": ".venv",
   "language": "python",
   "name": "python3"
  },
  "language_info": {
   "codemirror_mode": {
    "name": "ipython",
    "version": 3
   },
   "file_extension": ".py",
   "mimetype": "text/x-python",
   "name": "python",
   "nbconvert_exporter": "python",
   "pygments_lexer": "ipython3",
   "version": "3.12.2"
  }
 },
 "nbformat": 4,
 "nbformat_minor": 2
}
