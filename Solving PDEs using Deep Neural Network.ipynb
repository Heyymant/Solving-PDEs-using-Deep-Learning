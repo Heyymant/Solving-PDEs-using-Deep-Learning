{
 "cells": [
  {
   "cell_type": "code",
   "execution_count": 2,
   "metadata": {},
   "outputs": [],
   "source": [
    "#pip install torchvision"
   ]
  },
  {
   "cell_type": "code",
   "execution_count": 7,
   "metadata": {},
   "outputs": [],
   "source": [
    "import torch \n",
    "import torch.autograd as tgrad\n",
    "from pprint import pprint\n",
    "import pandas as pd\n",
    "import numpy as np\n",
    "import matplotlib.pyplot as plt\n",
    "from torch import nn\n",
    "from torch  import optim"
   ]
  },
  {
   "cell_type": "code",
   "execution_count": 8,
   "metadata": {},
   "outputs": [
    {
     "name": "stdout",
     "output_type": "stream",
     "text": [
      "17.01496124267578\n"
     ]
    }
   ],
   "source": [
    "# declaring the option price parameters\n",
    "\n",
    "S = torch.Tensor([80]).requires_grad_()  # stock price\n",
    "t = torch.Tensor([0]).requires_grad_()   # time period\n",
    "sigma = torch.Tensor([0.3]).requires_grad_()   # volatility\n",
    "r = torch.Tensor([0.05]).requires_grad_()   # interest rate\n",
    "K  = torch.Tensor([70]) # strike price\n",
    "T = torch.Tensor([1]) # real time\n",
    "\n",
    "t2m = T-t # time to maturity\n",
    "\n",
    "d1 = (torch.log(S/K) + (r + 0.5*sigma**2) * t2m)/(sigma*torch.sqrt(t2m))\n",
    "d2 = d1 - sigma*torch.sqrt(t2m)\n",
    "\n",
    "N0 =  lambda value: 0.5*(1+torch.erf((value/2**0.5))) # normal distribution function\n",
    "Nd1 = N0(d1)\n",
    "Nd2 = N0(d2)\n",
    "\n",
    "C = S*Nd1 -K*Nd2*torch.exp(-r*t2m)\n",
    "pprint(C.item())\n"
   ]
  },
  {
   "cell_type": "markdown",
   "metadata": {},
   "source": [
    "## Calculating the greeks "
   ]
  },
  {
   "cell_type": "code",
   "execution_count": 9,
   "metadata": {},
   "outputs": [
    {
     "name": "stdout",
     "output_type": "stream",
     "text": [
      "5.8385\n",
      "0.7769\n",
      "0.0124\n",
      "23.8776\n",
      "45.1372\n"
     ]
    }
   ],
   "source": [
    "dCdt, =  tgrad.grad(C,t,grad_outputs = torch.ones(C.shape), create_graph = True) # theta\n",
    "dCdS, = tgrad.grad(C,S,grad_outputs = torch.ones(C.shape), create_graph = True) # delta\n",
    "d2Cds, = tgrad.grad(dCdS, S,grad_outputs = torch.ones(dCdS.shape) , create_graph= True )\n",
    "dCdvol, = tgrad.grad(C,sigma, grad_outputs=torch.ones(C.shape), create_graph= True)\n",
    "\n",
    "dCdr, = tgrad.grad(C,r,grad_outputs = torch.ones(C.shape) ,create_graph = True)\n",
    "theta , delta, gamma ,vega, rho = -dCdt[0] ,dCdS[0],d2Cds[0],dCdvol[0] ,dCdr[0]\n",
    "\n",
    "for og in [theta, delta, gamma ,vega, rho]:\n",
    "    print(f'{og.item():.4f}')\n"
   ]
  },
  {
   "cell_type": "code",
   "execution_count": 10,
   "metadata": {},
   "outputs": [
    {
     "name": "stdout",
     "output_type": "stream",
     "text": [
      "0.0\n"
     ]
    }
   ],
   "source": [
    "# Black Scholes Equation.\n",
    "print((-theta + 0.5*sigma**2*S**2*gamma + r*S*delta - r*C).item())"
   ]
  },
  {
   "cell_type": "markdown",
   "metadata": {},
   "source": [
    "Strike price (K) = 40 \\\n",
    "Interest rate (r) = 5% \\\n",
    "Annual volatility of Asset (sigma) = 25%  \\\n",
    "Time to maturity (T) = 1 \\\n",
    "Input ranges for time = [0, 1] and Stock price = [0, 130] \\\n",
    "Instrinsic value of Call Option (gs) = max(Stock Price - K, 0) "
   ]
  },
  {
   "cell_type": "code",
   "execution_count": 11,
   "metadata": {},
   "outputs": [],
   "source": [
    "K = 40\n",
    "r = 0.05\n",
    "sigma = 0.25\n",
    "T = 1\n",
    "S_range = [0,130]\n",
    "t_range = [0,T]\n",
    "gs = lambda x: np.fmax(x-K,0) \n",
    "\n",
    "\n",
    "def get_diff_data(n):\n",
    "    X = np.concatenate([np.random.uniform(*t_range, (n,1)),\n",
    "                        np.random.uniform(*S_range , (n,1))], axis = 1)\n",
    "    y = np.zeros((n,1))\n",
    "    return X,y\n",
    "\n",
    "\n",
    "def get_ivp_data(n):\n",
    "    X = np.concatenate([np.ones((n,1)),\n",
    "                        np.random.uniform(*S_range, (n,1))], axis =1)\n",
    "    y = gs(X[:,1]).reshape(-1,1)\n",
    "    \n",
    "    return X,y\n",
    "\n",
    "def get_bvp_data(n):\n",
    "    X1 = np.concatenate([np.random.uniform(*t_range ,(n,1)),\n",
    "                         S_range[0]*np.ones(n,1) ],axis = 1)\n",
    "    y1 = np.zeros((n,1))\n",
    "    \n",
    "    X2 = np.concatenate([np.random.uniform(*t_range , (n,1)),\n",
    "                         S_range[-1]*np.ones((n,1))], axis = 1)\n",
    "    y2 = (S_range[-1] - K*np.exp(-r*(T-X2[:,0].reshape(-1)))).resphape(-1,1)\n",
    "    \n",
    "    return X1,y1,X2,y2"
   ]
  },
  {
   "cell_type": "code",
   "execution_count": 16,
   "metadata": {},
   "outputs": [
    {
     "ename": "AttributeError",
     "evalue": "module 'torch.nn' has no attribute 'MSEloss'",
     "output_type": "error",
     "traceback": [
      "\u001b[1;31m---------------------------------------------------------------------------\u001b[0m",
      "\u001b[1;31mAttributeError\u001b[0m                            Traceback (most recent call last)",
      "Cell \u001b[1;32mIn[16], line 49\u001b[0m\n\u001b[0;32m     47\u001b[0m n_epochs \u001b[38;5;241m=\u001b[39m \u001b[38;5;241m6000\u001b[39m\n\u001b[0;32m     48\u001b[0m samples \u001b[38;5;241m=\u001b[39m{\u001b[38;5;124m'\u001b[39m\u001b[38;5;124mpde\u001b[39m\u001b[38;5;124m'\u001b[39m : \u001b[38;5;241m5000\u001b[39m ,\u001b[38;5;124m'\u001b[39m\u001b[38;5;124mbvp\u001b[39m\u001b[38;5;124m'\u001b[39m:  \u001b[38;5;241m5000\u001b[39m ,\u001b[38;5;124m'\u001b[39m\u001b[38;5;124mivp\u001b[39m\u001b[38;5;124m'\u001b[39m:\u001b[38;5;241m5000\u001b[39m}\n\u001b[1;32m---> 49\u001b[0m criterion \u001b[38;5;241m=\u001b[39m \u001b[43mnn\u001b[49m\u001b[38;5;241;43m.\u001b[39;49m\u001b[43mMSEloss\u001b[49m()\n\u001b[0;32m     50\u001b[0m optimizer \u001b[38;5;241m=\u001b[39m optim\u001b[38;5;241m.\u001b[39mAdam(model\u001b[38;5;241m.\u001b[39mparameters(),lr \u001b[38;5;241m=\u001b[39m \u001b[38;5;241m3e-5\u001b[39m)\n",
      "\u001b[1;31mAttributeError\u001b[0m: module 'torch.nn' has no attribute 'MSEloss'"
     ]
    }
   ],
   "source": [
    "class DGMcell(nn.Module):\n",
    "    def __init__(self, input_dim, hidden_dim,n_layers=3, output_dim =1):\n",
    "        super(DGMcell, self).__init__()\n",
    "        self.input_dim  = input_dim\n",
    "        self.hidden_dim = hidden_dim\n",
    "        self.output_dim = output_dim\n",
    "        self.n = n_layers\n",
    "        \n",
    "        self.sig_act = nn.Tanh()\n",
    "        self.Sw =  nn.Linear(self.input_dim, self.hidden_dim)\n",
    "        \n",
    "        self.Uz  =  nn.Linear(self.input_dim, self.hidden_dim)\n",
    "        self.Wsz = nn.Linear(self.hidden_dim, self.hidden_dim)\n",
    "        \n",
    "        self.Ug = nn.Linear(self.input_dim , self.hidden_dim)\n",
    "        self.Wsg = nn.Linear(self.hidden_dim, self.hidden_dim)\n",
    "        \n",
    "        self.Ur = nn.Linear(self.input_dim, self.hidden_dim)\n",
    "        self.Wsr = nn.Linear(self.hidden_dim , self.hidden_dim)\n",
    "        \n",
    "        self.Uh =  nn.Linear(self.input_dim, self.hidden_dim)\n",
    "        self.Wsh = nn.Linear(self.hidden_dim, self.hidden_dim)\n",
    "        \n",
    "        self.wf = nn.Linear(hidden_dim, output_dim)\n",
    "        \n",
    "        \n",
    "    def forward(self, x):\n",
    "        S1 = self.Sw(x)\n",
    "        for i in range(self.n):\n",
    "            if i == 0:\n",
    "                S = S1\n",
    "            else:\n",
    "                S = self.sig_act(out)\n",
    "            \n",
    "            Z = self.sig_act(self.Uz(x) + self.Wsz(S))\n",
    "            G = self.sig_act(self.Ug(x) + self.Wsg(S1))\n",
    "            R = self.sig_act(self.Ur(x) + self.Wsr(x))\n",
    "            H = self.sig_act(self.Uh(x) + self.Wsh(S*R))\n",
    "            \n",
    "            out = (1-G)*H + Z*S\n",
    "        out = self.Wf(out)\n",
    "        return out\n",
    "\n",
    "model = DGMcell(2,100,3,1)\n",
    "# model.cuda()\n",
    "\n",
    "n_epochs = 6000\n",
    "samples ={'pde' : 5000 ,'bvp':  5000 ,'ivp':5000}\n",
    "criterion = nn.MSEloss()\n",
    "optimizer = optim.Adam(model.parameters(),lr = 3e-5)\n",
    "                   "
   ]
  },
  {
   "cell_type": "code",
   "execution_count": null,
   "metadata": {},
   "outputs": [],
   "source": []
  }
 ],
 "metadata": {
  "kernelspec": {
   "display_name": ".venv",
   "language": "python",
   "name": "python3"
  },
  "language_info": {
   "codemirror_mode": {
    "name": "ipython",
    "version": 3
   },
   "file_extension": ".py",
   "mimetype": "text/x-python",
   "name": "python",
   "nbconvert_exporter": "python",
   "pygments_lexer": "ipython3",
   "version": "3.12.2"
  }
 },
 "nbformat": 4,
 "nbformat_minor": 2
}
